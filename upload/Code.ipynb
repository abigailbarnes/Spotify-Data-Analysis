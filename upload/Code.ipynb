{
 "cells": [
  {
   "cell_type": "code",
   "execution_count": 376,
   "id": "ffb2a091",
   "metadata": {},
   "outputs": [],
   "source": [
    "#import statements \n",
    "import matplotlib.pyplot as plt\n",
    "import numpy as np\n",
    "import json\n",
    "from datetime import datetime\n",
    "#from os import listdir\n",
    "#from os.path import isfile, join\n",
    "import os\n",
    "from PIL import Image\n",
    "import requests\n",
    "from heapq import nlargest\n",
    "from operator import itemgetter"
   ]
  },
  {
   "cell_type": "code",
   "execution_count": 377,
   "id": "e4da8ae1",
   "metadata": {},
   "outputs": [],
   "source": [
    "#Task 1.2: Dashboard of Data"
   ]
  },
  {
   "cell_type": "code",
   "execution_count": 378,
   "id": "4a549b0e",
   "metadata": {},
   "outputs": [
    {
     "name": "stdout",
     "output_type": "stream",
     "text": [
      "general account information: \n",
      "\tusername: x5rqcqscv9d34yeeftb8dawz2\n",
      "\tcountry of user: US\n",
      "\tbirthday: 06/06/2000\n",
      "\tgender: female\n",
      "\tdate of account creation: 04/09/2021\n",
      "\n"
     ]
    }
   ],
   "source": [
    "#UserData.json\n",
    "def userdata():\n",
    "    f = open('/Users/christopherbarnes/cmsc25910/Assignment3/MyData/Userdata.json')\n",
    "    json_data = f\n",
    "    opened = json.loads(json_data.read())\n",
    "    \n",
    "    result = \"general account information: \\n\"\n",
    "    result += \"\\t\" + \"username: \" + opened['username'] + \"\\n\"\n",
    "    #result += \"email: \" + opened['email'] + \"\\n\"\n",
    "    result += \"\\t\" + \"country of user: \" + opened['country'] + \"\\n\"\n",
    "    #result += \"facebookID of associated user: \" + opened['facebookUid'] + \"\\n\"\n",
    "    val_input = opened['birthdate']\n",
    "    val_format = '%Y-%m-%d'\n",
    "    dt = datetime.strptime(val_input, val_format)\n",
    "    dt = dt.strftime(\"%m/%d/%Y\")\n",
    "    result += \"\\t\" + \"birthday: \" + dt + \"\\n\"\n",
    "    result += \"\\t\" + \"gender: \" + opened['gender'] + \"\\n\"\n",
    "    val_input = opened['creationTime']\n",
    "    val_format = '%Y-%m-%d'\n",
    "    dt = datetime.strptime(val_input, val_format)\n",
    "    dt = dt.strftime(\"%m/%d/%Y\")\n",
    "    result += \"\\t\" + \"date of account creation: \" + dt + \"\\n\"\n",
    "    f.close()\n",
    "    \n",
    "    return result\n",
    "\n",
    "print(userdata())"
   ]
  },
  {
   "cell_type": "code",
   "execution_count": 379,
   "id": "7a346db2",
   "metadata": {},
   "outputs": [
    {
     "name": "stdout",
     "output_type": "stream",
     "text": [
      "community engagement information: \n",
      "\tnumber of followers: 23\n",
      "\tnumber of followings: 31\n",
      "\n"
     ]
    }
   ],
   "source": [
    "#Follow.json\n",
    "def follow():\n",
    "    f = open('/Users/christopherbarnes/cmsc25910/Assignment3/MyData/Follow.json')\n",
    "    json_data = f\n",
    "    opened = json.loads(json_data.read())\n",
    "    \n",
    "    result = \"community engagement information: \" + \"\\n\"\n",
    "    result += \"\\t\" + \"number of followers: \" + str(opened['followerCount']) + \"\\n\"\n",
    "    result += \"\\t\" + \"number of followings: \" + str(opened['followingUsersCount']) + \"\\n\"\n",
    "    f.close()\n",
    "    \n",
    "    return result\n",
    "    \n",
    "    \n",
    "print(follow())"
   ]
  },
  {
   "cell_type": "code",
   "execution_count": 380,
   "id": "cd0230a7",
   "metadata": {},
   "outputs": [
    {
     "name": "stdout",
     "output_type": "stream",
     "text": [
      "data contained in the requested data download: \n",
      "\t1: UserAddress.json\n",
      "\t2: Follow.json\n",
      "\t3: Inferences.json\n",
      "\t4: VoiceInput.json\n",
      "\t5: Userdata.json\n",
      "\t6: SearchQueries.json\n",
      "\t7: StreamingHistory0.json\n",
      "\t8: Identity.json\n",
      "\t9: YourLibrary.json\n",
      "\t10: Payments.json\n",
      "\t11: StreamingHistory1.json\n",
      "\t12: Read_Me_First.pdf\n",
      "\t13: Identifiers.json\n",
      "\n"
     ]
    }
   ],
   "source": [
    "#getting the names of all the files in a directory: The files available in the downloaded data folder\n",
    "def files():\n",
    "    path = '/Users/christopherbarnes/cmsc25910/Assignment3/MyData/'\n",
    "    files_dirs = os.listdir(path)\n",
    "    result = 'data contained in the requested data download: \\n'\n",
    "    i = 1\n",
    "    for files in files_dirs:\n",
    "        result += \"\\t\" + str(i) + \": \" + files + \"\\n\"\n",
    "        i += 1\n",
    "    return result\n",
    "print(files())"
   ]
  },
  {
   "cell_type": "code",
   "execution_count": 381,
   "id": "f98da227",
   "metadata": {},
   "outputs": [
    {
     "name": "stdout",
     "output_type": "stream",
     "text": [
      "user information: \n",
      "\tdisplay name: abby b!\n",
      "\tprofile picture: refer to photo output\n",
      "\n"
     ]
    }
   ],
   "source": [
    "#Identity.json\n",
    "def identity():\n",
    "    f = open('/Users/christopherbarnes/cmsc25910/Assignment3/MyData/Identity.json')\n",
    "    json_data = f\n",
    "    opened = json.loads(json_data.read())\n",
    "    result = \"user information: \" + \"\\n\"\n",
    "    result += \"\\t\" + \"display name: \" + opened['displayName'] + \"\\n\"\n",
    "\n",
    "    url = opened['imageUrl']\n",
    "    im = Image.open(requests.get(url, stream=True).raw)\n",
    "    result += \"\\t\" + \"profile picture: refer to photo output\" + \"\\n\"\n",
    "    im.show()\n",
    "\n",
    "    f.close()\n",
    "    return result\n",
    "\n",
    "print(identity())"
   ]
  },
  {
   "cell_type": "code",
   "execution_count": 382,
   "id": "a030be09",
   "metadata": {},
   "outputs": [
    {
     "name": "stdout",
     "output_type": "stream",
     "text": [
      "general library information (downloaded to devices): \n",
      "\tnumber of songs: 585\n",
      "\tnumber of albums: 649\n",
      "\tnumber of shows: 10\n",
      "\tnumber of episodes: 12\n",
      "\tnumber of removed tracks: 0\n",
      "\tnumber of artists: 30\n",
      "\tnumber of removed artists: 0\n",
      "\n"
     ]
    }
   ],
   "source": [
    "#YourLibrary.json\n",
    "def library():\n",
    "    f = open('/Users/christopherbarnes/cmsc25910/Assignment3/MyData/YourLibrary.json')\n",
    "    json_data = f\n",
    "    opened = json.loads(json_data.read())\n",
    "    result = \"general library information (downloaded to devices): \" + \"\\n\"\n",
    "    result += \"\\t\" + \"number of songs: \" + str(len(opened[\"tracks\"])) + \"\\n\"\n",
    "    result += \"\\t\" + \"number of albums: \" + str(len(opened[\"albums\"])) + \"\\n\"\n",
    "    result += \"\\t\" + \"number of shows: \" + str(len(opened[\"shows\"])) + \"\\n\"\n",
    "    result += \"\\t\" + \"number of episodes: \" + str(len(opened[\"episodes\"])) + \"\\n\"\n",
    "    result += \"\\t\" + \"number of removed tracks: \" + str(len(opened[\"bannedTracks\"])) + \"\\n\"\n",
    "    result += \"\\t\" + \"number of artists: \" + str(len(opened[\"artists\"])) + \"\\n\"\n",
    "    result += \"\\t\" + \"number of removed artists: \" + str(len(opened[\"bannedArtists\"])) + \"\\n\"\n",
    "\n",
    "    #print(opened.keys())\n",
    "\n",
    "    f.close()\n",
    "    return result\n",
    "\n",
    "print(library())"
   ]
  },
  {
   "cell_type": "code",
   "execution_count": 383,
   "id": "c3109d1e",
   "metadata": {},
   "outputs": [
    {
     "name": "stdout",
     "output_type": "stream",
     "text": [
      "{'04': 182, '05': 245, '06': 84, '07': 26, '08': 19, '09': 123, '11': 26, '12': 1867, '01': 5893, '02': 5987, '03': 7245}\n"
     ]
    }
   ],
   "source": [
    "#opening StreamingHistory0.json and StreamingHistory1.json\n",
    "#sorting values into directories for data visualization\n",
    "artists = dict()\n",
    "songs = dict()\n",
    "days = dict()\n",
    "months = dict()\n",
    "\n",
    "def streamingHistory():\n",
    "    f0 = open('/Users/christopherbarnes/cmsc25910/Assignment3/MyData/StreamingHistory0.json')\n",
    "    json_data0 = f0\n",
    "    opened0 = json.loads(json_data0.read())\n",
    "    f1 = open('/Users/christopherbarnes/cmsc25910/Assignment3/MyData/StreamingHistory1.json')\n",
    "    json_data1 = f1\n",
    "    opened1 = json.loads(json_data1.read())\n",
    "\n",
    "        \n",
    "    i = 0\n",
    "    #open0\n",
    "    while i < len(opened0):\n",
    "        #looping through each user\n",
    "        curr_artist = opened0[i]['artistName']\n",
    "        curr_song  = opened0[i]['trackName']\n",
    "        curr_day = opened0[i]['endTime'][0:10]\n",
    "        curr_month = opened0[i]['endTime'][5:7]\n",
    "        curr_ms = opened0[i]['msPlayed']\n",
    "        \n",
    "        #ARTIST\n",
    "        if curr_artist in artists:\n",
    "            temp_plays = artists[curr_artist]\n",
    "            artists[curr_artist] = temp_plays + 1\n",
    "        else:\n",
    "            artists[curr_artist] = 1\n",
    "            \n",
    "        #SONGS\n",
    "        if curr_song in songs:\n",
    "            temp_plays = songs[curr_song]\n",
    "            songs[curr_song] = temp_plays + 1\n",
    "        else:\n",
    "            songs[curr_song] = 1\n",
    "            \n",
    "        #MINS per DAY\n",
    "        if curr_day in days:\n",
    "            temp_ms = days[curr_day]\n",
    "            days[curr_day] = temp_ms + round(curr_ms / 60000)\n",
    "        else:\n",
    "            days[curr_day] = round(curr_ms / 60000)\n",
    "        \n",
    "        #MINS per MONTH\n",
    "        if curr_month in months:\n",
    "            temp_ms = months[curr_month]\n",
    "            months[curr_month] = temp_ms + round(curr_ms / 60000)\n",
    "        else:\n",
    "            months[curr_month] = round(curr_ms / 60000)\n",
    "\n",
    "    \n",
    "        i = i + 1     \n",
    "    i = 0\n",
    "    #open0\n",
    "    while i < len(opened1):\n",
    "        #looping through each user\n",
    "        curr_artist = opened1[i]['artistName']\n",
    "        curr_song  = opened1[i]['trackName']\n",
    "        curr_day = opened1[i]['endTime'][0:10]\n",
    "        curr_month = opened0[i]['endTime'][5:7]\n",
    "        curr_ms = opened1[i]['msPlayed']\n",
    "        \n",
    "        #ARTIST\n",
    "        if curr_artist in artists:\n",
    "            temp_plays = artists[curr_artist]\n",
    "            artists[curr_artist] = temp_plays + 1\n",
    "        else:\n",
    "            artists[curr_artist] = 1\n",
    "            \n",
    "        #SONGS\n",
    "        if curr_song in songs:\n",
    "            temp_plays = songs[curr_song]\n",
    "            songs[curr_song] = temp_plays + 1\n",
    "        else:\n",
    "            songs[curr_song] = 1\n",
    "            \n",
    "        #MINS per DAY\n",
    "        if curr_day in days:\n",
    "            temp_ms = days[curr_day]\n",
    "            days[curr_day] = temp_ms + round(curr_ms / 60000)\n",
    "        else:\n",
    "            days[curr_day] = round(curr_ms / 60000)\n",
    "        \n",
    "        #MINS per MONTH\n",
    "        if curr_month in months:\n",
    "            temp_ms = months[curr_month]\n",
    "            months[curr_month] = temp_ms + round(curr_ms / 60000)\n",
    "        else:\n",
    "            months[curr_month] = round(curr_ms / 60000)\n",
    "\n",
    "    \n",
    "        i = i + 1   \n",
    "        \n",
    "    f0.close()\n",
    "    f1.close()\n",
    "\n",
    "streamingHistory()\n",
    "\n",
    "#print(artists)\n",
    "#print(songs)\n",
    "#print(days)\n",
    "print(months)"
   ]
  },
  {
   "cell_type": "code",
   "execution_count": 384,
   "id": "2b80ecf5",
   "metadata": {},
   "outputs": [
    {
     "data": {
      "image/png": "[encoded data removed]",
      "text/plain": [
       "<Figure size 432x288 with 1 Axes>"
      ]
     },
     "metadata": {
      "needs_background": "light"
     },
     "output_type": "display_data"
    }
   ],
   "source": [
    "\n",
    "'''\n",
    "artists = dict()\n",
    "songs = dict()\n",
    "days = dict()\n",
    "'''\n",
    "\n",
    "def topsongs():\n",
    "    #print(songs)\n",
    "    N = 5\n",
    "    res = dict(sorted(songs.items(), key = itemgetter(1), reverse = True)[:N])\n",
    "    #print(str(res))\n",
    "    \n",
    "    keys = list(res.keys())\n",
    "    vals = list(res.values())\n",
    "    width = 0.35\n",
    "    #explode = (0, 0.1, 0, 0)\n",
    "    #print(labels)\n",
    "    #print(slices)\n",
    "    \n",
    "    fig = plt.figure()\n",
    "    ax = fig.add_axes([0,0,1,1])\n",
    "    ax.set_title('Top 5 Songs')\n",
    "    ax.set_ylabel('Number of Listens')\n",
    "    ax.set_xlabel('Song')\n",
    "    ax.bar(keys, vals, width)\n",
    "    plt.show()\n",
    "\n",
    "    \n",
    "#streaminghistory()\n",
    "topsongs()"
   ]
  },
  {
   "cell_type": "code",
   "execution_count": 385,
   "id": "449772a2",
   "metadata": {},
   "outputs": [
    {
     "data": {
      "image/png": "[encoded data removed]",
      "text/plain": [
       "<Figure size 432x288 with 1 Axes>"
      ]
     },
     "metadata": {
      "needs_background": "light"
     },
     "output_type": "display_data"
    }
   ],
   "source": [
    "\n",
    "'''\n",
    "artists = dict()\n",
    "songs = dict()\n",
    "days = dict()\n",
    "'''\n",
    "\n",
    "def topartists():\n",
    "    #print(songs)\n",
    "    N = 5\n",
    "    res = dict(sorted(artists.items(), key = itemgetter(1), reverse = True)[:N])\n",
    "    #print(str(res))\n",
    "    \n",
    "    keys = list(res.keys())\n",
    "    vals = list(res.values())\n",
    "    width = 0.35\n",
    "    #explode = (0, 0.1, 0, 0)\n",
    "    #print(labels)\n",
    "    #print(slices)\n",
    "    \n",
    "    fig = plt.figure()\n",
    "    ax = fig.add_axes([0,0,1,1])\n",
    "    ax.set_title('Top 5 Artists')\n",
    "    ax.set_ylabel('Number of Listens')\n",
    "    ax.set_xlabel('Artists')\n",
    "    ax.bar(keys, vals, width)\n",
    "    plt.show()\n",
    "    \n",
    "#streaminghistory()\n",
    "topartists()"
   ]
  },
  {
   "cell_type": "code",
   "execution_count": 386,
   "id": "238ef42e",
   "metadata": {},
   "outputs": [
    {
     "data": {
      "image/png": "[encoded data removed]",
      "text/plain": [
       "<Figure size 432x288 with 1 Axes>"
      ]
     },
     "metadata": {
      "needs_background": "light"
     },
     "output_type": "display_data"
    }
   ],
   "source": [
    "\n",
    "'''\n",
    "artists = dict()\n",
    "songs = dict()\n",
    "days = dict()\n",
    "'''\n",
    "\n",
    "def topdays():\n",
    "    #print(songs)\n",
    "    N = 5\n",
    "    res = dict(sorted(days.items(), key = itemgetter(1), reverse = True)[:N])\n",
    "    #print(str(res))\n",
    "    \n",
    "    keys = list(res.keys())\n",
    "    vals = list(res.values())\n",
    "    width = 0.35\n",
    "    #explode = (0, 0.1, 0, 0)\n",
    "    #print(labels)\n",
    "    #print(slices)\n",
    "    \n",
    "    fig = plt.figure()\n",
    "    ax = fig.add_axes([0,0,1,1])\n",
    "    ax.bar(keys, vals, width)\n",
    "    ax.set_title('Top 5 Days')\n",
    "    ax.set_ylabel('Number of Minutes (Rounded)')\n",
    "    ax.set_xlabel('Days')\n",
    "    plt.show()\n",
    "    \n",
    "#streaminghistory()\n",
    "topdays()"
   ]
  },
  {
   "cell_type": "code",
   "execution_count": 397,
   "id": "6b72caee",
   "metadata": {},
   "outputs": [
    {
     "name": "stdout",
     "output_type": "stream",
     "text": [
      "general dashboard: \n",
      "\n",
      "general account information: \n",
      "\tusername: x5rqcqscv9d34yeeftb8dawz2\n",
      "\tcountry of user: US\n",
      "\tbirthday: 06/06/2000\n",
      "\tgender: female\n",
      "\tdate of account creation: 04/09/2021\n",
      "\n",
      "user information: \n",
      "\tdisplay name: abby b!\n",
      "\tprofile picture: refer to photo output\n",
      "\n",
      "community engagement information: \n",
      "\tnumber of followers: 23\n",
      "\tnumber of followings: 31\n",
      "\n",
      "general library information (downloaded to devices): \n",
      "\tnumber of songs: 585\n",
      "\tnumber of albums: 649\n",
      "\tnumber of shows: 10\n",
      "\tnumber of episodes: 12\n",
      "\tnumber of removed tracks: 0\n",
      "\tnumber of artists: 30\n",
      "\tnumber of removed artists: 0\n",
      "\n",
      "data contained in the requested data download: \n",
      "\t1: UserAddress.json\n",
      "\t2: Follow.json\n",
      "\t3: Inferences.json\n",
      "\t4: VoiceInput.json\n",
      "\t5: Userdata.json\n",
      "\t6: SearchQueries.json\n",
      "\t7: StreamingHistory0.json\n",
      "\t8: Identity.json\n",
      "\t9: YourLibrary.json\n",
      "\t10: Payments.json\n",
      "\t11: StreamingHistory1.json\n",
      "\t12: Read_Me_First.pdf\n",
      "\t13: Identifiers.json\n",
      "\n"
     ]
    },
    {
     "data": {
      "image/png": "[encoded data removed]",
      "text/plain": [
       "<Figure size 432x288 with 1 Axes>"
      ]
     },
     "metadata": {
      "needs_background": "light"
     },
     "output_type": "display_data"
    },
    {
     "data": {
      "image/png": "[encoded data removed]",
      "text/plain": [
       "<Figure size 432x288 with 1 Axes>"
      ]
     },
     "metadata": {
      "needs_background": "light"
     },
     "output_type": "display_data"
    },
    {
     "data": {
      "image/png": "[encoded data removed]",
      "text/plain": [
       "<Figure size 432x288 with 1 Axes>"
      ]
     },
     "metadata": {
      "needs_background": "light"
     },
     "output_type": "display_data"
    }
   ],
   "source": [
    "#Task 1.2 Final Dashboard\n",
    "def general_dashboard():\n",
    "    print(\"general dashboard: \\n\")\n",
    "    print(userdata())\n",
    "    print(identity())\n",
    "    print(follow())\n",
    "    print(library())\n",
    "    print(files())\n",
    "    topsongs()\n",
    "    topartists()\n",
    "    topdays()\n",
    "    \n",
    "general_dashboard()"
   ]
  },
  {
   "cell_type": "code",
   "execution_count": 398,
   "id": "c375d890",
   "metadata": {},
   "outputs": [],
   "source": [
    "#Task 1.3: Dashboard of Privacy Invasive information"
   ]
  },
  {
   "cell_type": "code",
   "execution_count": 399,
   "id": "61e47637",
   "metadata": {},
   "outputs": [],
   "source": [
    "#Task 1.3: Dashboard of Privacy Invasive information"
   ]
  },
  {
   "cell_type": "code",
   "execution_count": 400,
   "id": "b3b7d6b9",
   "metadata": {},
   "outputs": [
    {
     "name": "stdout",
     "output_type": "stream",
     "text": [
      "account identifiable information: \n",
      "\ttype of identifier: email\n",
      "\tidentifier: **********@gmail.com\n",
      "\n"
     ]
    }
   ],
   "source": [
    "#Identifiers.json\n",
    "def identifiers():\n",
    "    f = open('/Users/christopherbarnes/cmsc25910/Assignment3/MyData/Identifiers.json')\n",
    "    json_data = f\n",
    "    opened = json.loads(json_data.read())\n",
    "    result = \"account identifiable information: \" + \"\\n\"\n",
    "    result += \"\\t\" + \"type of identifier: \" + opened[\"identifierType\"] + \"\\n\"\n",
    "    email = opened[\"identifierValue\"]\n",
    "    index = email.index(\"@\")\n",
    "    email_redacted = \"*\"\n",
    "    email_redacted *= index\n",
    "    email_redacted += email[index: len(email)]\n",
    "    result += \"\\t\" + \"identifier: \" + email_redacted + \"\\n\"\n",
    "\n",
    "    f.close()\n",
    "    return result\n",
    "\n",
    "print(identifiers())"
   ]
  },
  {
   "cell_type": "code",
   "execution_count": 401,
   "id": "7999c381",
   "metadata": {},
   "outputs": [
    {
     "name": "stdout",
     "output_type": "stream",
     "text": [
      "user identifiable information: \n",
      "\tfirst name: A******\n",
      "\tlast name: B*****\n",
      "\n"
     ]
    }
   ],
   "source": [
    "#Identifiers.json\n",
    "def identity_privacy():\n",
    "    f = open('/Users/christopherbarnes/cmsc25910/Assignment3/MyData/Identity.json')\n",
    "    json_data = f\n",
    "    opened = json.loads(json_data.read())\n",
    "    result = \"user identifiable information: \" + \"\\n\"\n",
    "    \n",
    "    firstname_og = opened[\"firstName\"]\n",
    "    firstletter = opened[\"firstName\"][0:1]\n",
    "    firstname = \"*\"\n",
    "    firstname *= len(firstname_og) - 1\n",
    "    firstname = firstletter + firstname\n",
    "    \n",
    "    lastname_og = opened[\"lastName\"]\n",
    "    firstletter = opened[\"lastName\"][0:1]\n",
    "    lastname = \"*\"\n",
    "    lastname *= len(lastname_og) - 1\n",
    "    lastname = firstletter + lastname\n",
    "    \n",
    "    result += \"\\t\" + \"first name: \" + firstname + \"\\n\"\n",
    "    result += \"\\t\" + \"last name: \" + lastname + \"\\n\"\n",
    "\n",
    "    f.close()\n",
    "    return result\n",
    "\n",
    "print(identity_privacy())"
   ]
  },
  {
   "cell_type": "code",
   "execution_count": 402,
   "id": "ef6beb35",
   "metadata": {},
   "outputs": [
    {
     "name": "stdout",
     "output_type": "stream",
     "text": [
      "payment information: \n",
      "\tcard number: (************1468)\n",
      "\tcountry: US\n",
      "\tpostal code: 3*****-3***\n",
      "\n"
     ]
    }
   ],
   "source": [
    "#Payments.json\n",
    "def payments():\n",
    "    f = open('/Users/christopherbarnes/cmsc25910/Assignment3/MyData/Payments.json')\n",
    "    json_data = f\n",
    "    opened = json.loads(json_data.read())\n",
    "    result = \"payment information: \" + \"\\n\"\n",
    "    \n",
    "    card = opened['payment_method'].split(\" \")\n",
    "    card = card[1] + card[2] + card[3] + card[4]\n",
    "    \n",
    "    postalcode = opened['postal_code'].split(\"-\")\n",
    "    postalcode_redacted = \"\"\n",
    "    \n",
    "    \n",
    "    for section in postalcode:\n",
    "        #print(section)\n",
    "        temp_pc = \"*\"\n",
    "        temp_pc *= len(section)\n",
    "        temp_pc = section[0:1] + temp_pc + \"-\"\n",
    "        postalcode_redacted += temp_pc\n",
    "        \n",
    "    postalcode_redacted = postalcode_redacted[0: len(postalcode_redacted) - 2]\n",
    "    \n",
    "    result += \"\\t\" + \"card number: \" + card + \"\\n\"\n",
    "    result += \"\\t\" + \"country: \" + opened['country'] + \"\\n\"\n",
    "    result += \"\\t\" + \"postal code: \" + postalcode_redacted + \"\\n\"\n",
    "\n",
    "    f.close()\n",
    "    return result\n",
    "\n",
    "print(payments())"
   ]
  },
  {
   "cell_type": "code",
   "execution_count": 446,
   "id": "d728f891",
   "metadata": {},
   "outputs": [
    {
     "name": "stdout",
     "output_type": "stream",
     "text": [
      "redacted user address: \n",
      "\tstreet: 6*** R******** D**** N*\n",
      "\tpostal code: 3****\n",
      "\tcity: A******\n",
      "\tstate: G*\n",
      "\n"
     ]
    }
   ],
   "source": [
    "#UserAddress.json\n",
    "def useraddress():\n",
    "    f = open(\"/Users/christopherbarnes/cmsc25910/Assignment3/MyData/UserAddress.json\", \"r\")\n",
    "    information = f.read()\n",
    "    #print(information)\n",
    "    \n",
    "    \n",
    "    information = information.replace(\"List\", \"\")\n",
    "    information = information.replace(\"Map\", \"\")\n",
    "    information = information.replace(\"City\", \"\")\n",
    "    information = information.replace(\"(\", \"\")\n",
    "    information = information.replace(\")\", \"\")\n",
    "    information = information.replace(\"List\", \"\")\n",
    "    information = information.replace(\"city\", \"\")\n",
    "    information = information.replace(\"->\", \"\")\n",
    "    information = information.replace(\"postal_code_short\", \"\")\n",
    "    information = information.replace(\"state\", \"\")\n",
    "    information = information.replace(\"street\", \"\")\n",
    "    information = information.replace(\"   \", \"\")\n",
    "    information = information.replace(\"  \", \"\")\n",
    "    \n",
    "    information = information.split(\",\")\n",
    "    \n",
    "    #print(information)\n",
    "    \n",
    "    cityred = \"*\"\n",
    "    cityred *= len(information[0]) - 1\n",
    "    cityred = information[0][0:1] + cityred\n",
    "    \n",
    "    \n",
    "    streetred = \"\"\n",
    "    splitted = information[1].split(\" \")\n",
    "    \n",
    "    for word in splitted:\n",
    "        temp_word = \"*\"\n",
    "        temp_word *= len(word) - 1\n",
    "        temp_word = word[0:1] + temp_word\n",
    "        streetred += temp_word + \" \"\n",
    "    \n",
    "    streetred = streetred[0:len(streetred) - 1]\n",
    "    \n",
    "    postalcodered = \"*\"\n",
    "    postalcodered *= len(information[2]) - 1\n",
    "    postalcodered = information[2][0:1] + postalcodered\n",
    "    \n",
    "    statered = \"*\"\n",
    "    statered *= len(information[3]) - 1\n",
    "    statered = information[3][0:1] + statered\n",
    "    \n",
    "    result = \"redacted user address: \" + \"\\n\"\n",
    "    result += \"\\t\" + \"street: \" + streetred + \"\\n\"\n",
    "    result += \"\\t\" + \"postal code: \" + postalcodered + \"\\n\"\n",
    "    result += \"\\t\" + \"city: \" + cityred + \"\\n\"\n",
    "    result += \"\\t\" + \"state: \" + statered + \"\\n\"\n",
    "\n",
    "    f.close()\n",
    "    return result\n",
    "\n",
    "print(useraddress())"
   ]
  },
  {
   "cell_type": "code",
   "execution_count": 404,
   "id": "78d37a75",
   "metadata": {},
   "outputs": [
    {
     "name": "stdout",
     "output_type": "stream",
     "text": [
      "redacted user data: \n",
      "\tfacebook user id: ***************\n",
      "\tpostal code: 3*****\n",
      "\tmobile number: 6**-7**-5**\n",
      "\tmobile operator: ****\n",
      "\tmobile brand: *****\n",
      "\n"
     ]
    }
   ],
   "source": [
    "#UserData.json\n",
    "def userdata_privacy():\n",
    "    f = open('/Users/christopherbarnes/cmsc25910/Assignment3/MyData/UserData.json')\n",
    "    json_data = f\n",
    "    opened = json.loads(json_data.read())\n",
    "    \n",
    "    \n",
    "    fbuidred = \"*\" * len(opened['facebookUid'])\n",
    "    \n",
    "    pcred = str(opened['postalCode'])[0:1] + (\"*\" * len(str(opened['postalCode'])))\n",
    "    \n",
    "    mnred = \"\"\n",
    "    splitted = opened['mobileNumber'].split(\"-\")\n",
    "    for section in splitted:\n",
    "        temp = \"*\" * (len(section) - 1)\n",
    "        temp = section[0:1] + temp + \"-\"\n",
    "        mnred += temp\n",
    "                                              \n",
    "    mnred = mnred[0:len(mnred) - 2]\n",
    "    \n",
    "    mored = \"*\" * len(opened['mobileOperator'])\n",
    "    \n",
    "    mbred = \"*\" * len(opened['mobileBrand'])\n",
    "    \n",
    "    result = \"redacted user data: \" + \"\\n\"\n",
    "    result += \"\\t\" + \"facebook user id: \" + fbuidred + \"\\n\"\n",
    "    result += \"\\t\" + \"postal code: \" + pcred + \"\\n\"\n",
    "    result += \"\\t\" + \"mobile number: \" + mnred + \"\\n\"\n",
    "    result += \"\\t\" + \"mobile operator: \" + mored + \"\\n\"\n",
    "    result += \"\\t\" + \"mobile brand: \" + mbred + \"\\n\"\n",
    "\n",
    "    f.close()\n",
    "    return result\n",
    "\n",
    "print(userdata_privacy())"
   ]
  },
  {
   "cell_type": "code",
   "execution_count": 405,
   "id": "208159e4",
   "metadata": {},
   "outputs": [
    {
     "name": "stdout",
     "output_type": "stream",
     "text": [
      "redacted voice search queries: \n",
      "\t1: p*** J***** O******\n",
      "\t2: p*** M* G****\n",
      "\t3: s*** p****** m****\n",
      "\n"
     ]
    }
   ],
   "source": [
    "#VoiceInput.json\n",
    "def voiceinput_privacy():\n",
    "    f = open('/Users/christopherbarnes/cmsc25910/Assignment3/MyData/VoiceInput.json')\n",
    "    json_data = f\n",
    "    opened = json.loads(json_data.read())\n",
    "    \n",
    "    listofred = []\n",
    "    for element in opened:        \n",
    "        splitted = element['voiceSearchQuery'].split(\" \")\n",
    "        vsqred = \"\"\n",
    "        for word in splitted:\n",
    "            temp = \"*\" * (len(word) - 1)\n",
    "            temp = word[0:1] + temp\n",
    "            vsqred += temp + \" \"\n",
    "        vsqred = vsqred[0: len(vsqred) - 1]\n",
    "        listofred.append(vsqred)\n",
    "    \n",
    "    \n",
    "    #print(listofred)\n",
    "    result = \"redacted voice search queries: \" + \"\\n\"\n",
    "    i = 1\n",
    "    for query in listofred:\n",
    "        result += \"\\t\" + str(i) + \": \" + query + \"\\n\"\n",
    "        i += 1\n",
    "\n",
    "    f.close()\n",
    "    return result\n",
    "\n",
    "print(voiceinput_privacy())"
   ]
  },
  {
   "cell_type": "code",
   "execution_count": 406,
   "id": "b0f14ce1",
   "metadata": {},
   "outputs": [
    {
     "name": "stdout",
     "output_type": "stream",
     "text": [
      "privacy dashboard: \n",
      "\n",
      "account identifiable information: \n",
      "\ttype of identifier: email\n",
      "\tidentifier: **********@gmail.com\n",
      "\n",
      "user identifiable information: \n",
      "\tfirst name: A******\n",
      "\tlast name: B*****\n",
      "\n",
      "payment information: \n",
      "\tcard number: (************1468)\n",
      "\tcountry: US\n",
      "\tpostal code: 3*****-3***\n",
      "\n",
      "redacted user address: \n",
      "\tstreet: 6*** R******** D**** N*\n",
      "\tpostal code: 3****\n",
      "\tcity: A******\n",
      "\tstate: G*\n",
      "\n",
      "redacted user data: \n",
      "\tfacebook user id: ***************\n",
      "\tpostal code: 3*****\n",
      "\tmobile number: 6**-7**-5**\n",
      "\tmobile operator: ****\n",
      "\tmobile brand: *****\n",
      "\n",
      "redacted voice search queries: \n",
      "\t1: p*** J***** O******\n",
      "\t2: p*** M* G****\n",
      "\t3: s*** p****** m****\n",
      "\n"
     ]
    }
   ],
   "source": [
    "#Task 1.3 Final Privacy Dashboard\n",
    "def privacy_dashboard():\n",
    "    print(\"privacy dashboard: \\n\")\n",
    "    print(identifiers())\n",
    "    print(identity_privacy())\n",
    "    print(payments())\n",
    "    print(useraddress())\n",
    "    print(userdata_privacy())\n",
    "    print(voiceinput_privacy())\n",
    "    \n",
    "privacy_dashboard()"
   ]
  },
  {
   "cell_type": "code",
   "execution_count": 407,
   "id": "7ea79a0f",
   "metadata": {},
   "outputs": [],
   "source": [
    "#Task 1.4: the fun stuff!"
   ]
  },
  {
   "cell_type": "code",
   "execution_count": 408,
   "id": "cc9926d4",
   "metadata": {},
   "outputs": [
    {
     "name": "stdout",
     "output_type": "stream",
     "text": [
      "{'1P': 3, 'Custom': 48, 'Discovery': 1, 'Streamers': 1, 'T-Mobile': 1, 'Switchers': 2, 'United': 1, 'States': 1, '2P': 4, 'Kohl’s': 1, 'Deep': 1, 'Discount': 1, '19Jan2021': 1, 'US': 100, 'Microsoft': 1, 'Tech': 2, 'Savvy/Deal': 1, 'Seeking': 1, 'Fams': 1, '14Oct2020': 1, 'Reckitt': 1, 'Benckiser': 1, 'ODC': 7, 'RB': 1, 'Air': 3, 'Wick': 2, 'Care': 1, 'Category': 5, 'Buyers': 10, 'ANDNOT': 1, '202105': 1, '23Jun2021': 1, 'Toyota': 3, 'Upbeat': 1, 'Boomers': 1, '202009': 1, '30Sept2020': 1, '3P': 93, 'College': 2, 'Basketball': 2, 'Fans': 2, '[Do': 4, 'Not': 4, 'Use': 4, 'in': 4, '2021]': 4, 'Runners': 1, 'Running': 1, '18February2021': 1, '20Jan2021': 1, 'Industry': 2, 'Vonage': 1, '23March2020': 1, 'Lexus': 1, 'In-Market': 1, 'Aspirational': 1, 'Shoppers': 2, '2019': 2, 'FamilyMemberAge65Plus': 1, '22Dec2020': 1, 'Owned/Leased': 1, 'Car': 4, '+4': 1, 'Years': 1, 'Old': 1, '08March2021': 1, 'Samsung': 1, 'Creative': 1, 'Freelancers': 1, '12August2020': 1, 'Buick': 1, 'Owners': 9, 'Chrysler': 1, 'Vehicle': 3, '25Oct2019': 2, 'Dodge': 1, 'Owner': 1, 'GMI': 3, 'Epic': 1, 'KetoCatBuyers': 1, '19Dec2019': 1, 'Pillsbury': 1, 'CookieorBrownie': 1, '09Mar2020': 1, 'HM': 1, 'Disinfectant': 1, '29Oct2020': 1, 'Kohler': 1, 'TrendyHomemakers': 1, '01Oct2019': 1, 'Nature': 2, 'Made': 2, 'Brand': 4, '08April2020': 2, 'Lapsed': 2, 'SMB': 1, 'Decision': 1, 'Makers': 1, '04November2019': 2, 'Start': 1, 'Up': 1, 'Top': 2, 'Grocery': 2, 'Spenders': 2, 'Green': 1, 'Consumers': 1, '06Nov2019': 1, 'HamburgerCategory': 1, '22Jan2020': 2, 'Meat': 1, '1April2020': 1, 'MeatAlternativeCategory': 1, 'B2B': 4, 'Business': 4, 'Type': 1, 'Small': 1, 'Services': 1, 'Job': 1, 'Role': 1, 'Mid-Management': 1, 'Seniority': 1, 'Executive/C-Suite': 1, 'Buyer': 1, 'Profile': 1, 'Travel': 1, 'Leisure': 1, 'travelers': 1, 'CPG': 10, 'BuyStyles': 2, 'Natural': 1, 'Living': 1, 'Buystyles': 1, 'Premium': 4, 'Brands': 1, 'Purchase': 10, 'behavior': 8, 'Food': 6, 'drink': 5, 'Cereal': 2, 'All': 1, 'Sweets': 4, 'snacks': 5, 'Chocolate': 1, 'candy': 2, 'Granola': 1, 'bars': 1, 'Non': 2, 'chocolate': 1, 'Salty': 3, 'Health': 5, 'beauty': 3, 'Cosmetics': 1, 'Hair': 1, 'care': 2, 'Skin': 1, 'Lifestyles': 2, 'Foodies': 2, 'Healthy': 1, 'Fit': 1, 'Retail': 2, 'Offline': 1, 'Purchasers': 8, 'Seasonal': 8, 'Spring': 2, 'March': 1, 'Madness': 1, 'basketball': 1, 'fans': 1, 'Fall': 1, 'Black': 1, 'Friday': 1, 'Cyber': 1, 'Monday': 1, 'Mothers': 1, 'Day': 1, 'shoppers': 4, 'Winter': 1, 'Holiday': 1, 'New': 3, 'vehicle': 5, 'market': 7, 'Style': 8, 'Luxury': 6, 'sedan': 2, 'type': 2, 'Buy': 2, 'new': 1, 'used': 1, 'Used': 2, 'buyers': 2, 'SUV': 3, 'BJs': 2, 'Members': 2, 'POC': 1, 'Family': 1, 'Ages': 1, '25': 1, '44': 1, '17Oct2019': 1, '27Mar2020': 1, 'Starbucks': 4, 'Coffee': 2, 'Bag': 1, '201906': 1, 'K': 1, 'Cup': 1, '201907': 2, 'K-Cup': 1, 'PSM': 1, 'MC': 1, 'LikelytoBuyTires': 1, 'TopTier': 1, 'Tire': 1, 'Spend': 1, 'Chevrolet': 2, 'Truck': 1, 'ChexMix': 1, 'W11-18': 1, 'Chex': 1, 'Mix': 1, 'or': 2, 'Snacks': 1, 'JLR': 7, 'InMarketJaguarFPace': 1, 'InMarketJaguarXE': 1, 'InMarketJaguarXF': 1, 'InMarketLandRoverDiscoverySport': 1, 'InMarketLandRoverRangeRoverEvoque': 1, 'InMarketLandRoverRangeRoverSport': 1, 'InMarketLandRoverVelar': 1, 'Pepsico': 2, 'FritoLay': 2, 'Ruffles': 2, 'Cracker': 1, '201908': 2, 'Snack': 1, 'Flavored': 1, '201901': 1, 'comScore': 3, 'TV': 3, 'Competitive': 1, 'Love': 2, 'Island': 1, 'Networks': 3, 'Series': 1, 'Bachelor/Bachelor': 1, 'Live': 1, 'HMLysolBrandBuyers': 1, 'Market': 3, 'Body': 3, 'Crossover': 1, 'Lysol': 2, 'CompetitiveBrandBuyers': 1, 'HMOdorEliminatorCategory': 1, 'Credit': 1, 'Active': 2, 'Lease': 1, 'Affinity': 1, '11Jun2020': 1, 'Compact': 1, 'Sub': 1, 'compact': 1, 'Melatonin': 1, 'Small/midsize': 1, 'Number': 1, 'of': 1, 'Cards': 1, '4th': 1, 'Quartile': 1, 'Aftermarket': 1, 'Auto': 1, 'service': 1, 'buyer': 1, 'Make': 3, 'Jeep': 1, 'Subaru': 1, 'Vitamin': 1, 'C': 1, 'Broadcast': 1, 'The': 1, 'CW': 1, '3p': 1, 'Cookie': 1, 'Dough': 1, 'OR': 1, 'Brownie': 1, '26Mar2020': 1, 'Commuting': 1, 'Culture': 1, '&': 3, 'Society': 1, 'Education': 1, 'Fitness': 1, 'Lifestyle': 1, 'Hulu': 2, 'ACT': 1, '1': 1, 'TTHH': 1, 'Q2Q32021': 1, 'EXPOSED': 1, '[BEA]': 1, 'In-Car': 1, 'Listening': 1, 'Dating': 1, 'Parenting': 1, 'Partying': 1, 'Premiumbusiness': 1, 'Free': 1, 'Trial-Eligible': 1, 'Recaptcha': 1, 'scores': 1, 'filtered': 1, 'Studying': 1, 'focusing': 1, 'Chicago': 1, 'Hyperlocal': 1, 'Q2': 1, '2021': 1}\n"
     ]
    }
   ],
   "source": [
    "#most common words in inference\n",
    "\n",
    "import re\n",
    "\n",
    "infer = dict()\n",
    "\n",
    "def inference():\n",
    "    f = open('/Users/christopherbarnes/cmsc25910/Assignment3/MyData/Inferences.json')\n",
    "    json_data = f\n",
    "    opened = json.loads(json_data.read())\n",
    "\n",
    "    #print(opened['inferences'])\n",
    "    \n",
    "    inferlist = opened['inferences']\n",
    "    \n",
    "    i = 0\n",
    "    \n",
    "    while i < len(inferlist):\n",
    "        splitted = re.split(' |_', inferlist[i])\n",
    "        #print(splitted)\n",
    "        \n",
    "        for word in splitted:\n",
    "            if word in infer:\n",
    "                temp_infer = infer[word]\n",
    "                infer[word] = temp_infer + 1\n",
    "            else:\n",
    "                infer[word] = 1\n",
    "        i = i + 1    \n",
    "        \n",
    "    infer.pop('')\n",
    "    infer.pop('and')\n",
    "    infer.pop('In')\n",
    "    f.close()\n",
    "    \n",
    "inference()\n",
    "print(infer)"
   ]
  },
  {
   "cell_type": "code",
   "execution_count": 409,
   "id": "df3413da",
   "metadata": {},
   "outputs": [
    {
     "data": {
      "image/png": "[encoded data removed]",
      "text/plain": [
       "<Figure size 432x288 with 1 Axes>"
      ]
     },
     "metadata": {},
     "output_type": "display_data"
    }
   ],
   "source": [
    "def topinferences():\n",
    "    N = 10\n",
    "    res = dict(sorted(infer.items(), key = itemgetter(1), reverse = True)[:N])\n",
    "    keys = list(res.keys())\n",
    "    vals = list(res.values())\n",
    "    #print(keys)\n",
    "    #print(vals)\n",
    "    \n",
    "    fig1, ax1 = plt.subplots()\n",
    "    ax1.pie(vals, labels=keys, autopct='%1.1f%%')\n",
    "    ax1.axis('equal')  # Equal aspect ratio ensures that pie is drawn as a circle.\n",
    "    ax1.set_title(\"10 Most Common Words in Inferences\")\n",
    "    plt.show()\n",
    "\n",
    "    \n",
    "#streaminghistory()\n",
    "topinferences()"
   ]
  },
  {
   "cell_type": "code",
   "execution_count": 410,
   "id": "17796139",
   "metadata": {},
   "outputs": [],
   "source": [
    "#most commonly searched words\n",
    "\n",
    "wordsearch = dict()\n",
    "\n",
    "def searchedwords():\n",
    "    f = open('/Users/christopherbarnes/cmsc25910/Assignment3/MyData/SearchQueries.json')\n",
    "    json_data = f\n",
    "    opened = json.loads(json_data.read())\n",
    "    \n",
    "    #for searches in opened:\n",
    "        #print(searches['searchQuery'])\n",
    "        \n",
    "    i = 0\n",
    "    \n",
    "    while i < len(opened):\n",
    "        word = opened[i]['searchQuery']\n",
    "        if word in wordsearch:\n",
    "            temp_word = wordsearch[word]\n",
    "            wordsearch[word] = temp_word + 1\n",
    "        else:\n",
    "            wordsearch[word] = 1\n",
    "        i = i + 1    \n",
    "        \n",
    "    f.close()\n",
    "\n",
    "searchedwords()\n",
    "#print(wordsearch)"
   ]
  },
  {
   "cell_type": "code",
   "execution_count": 411,
   "id": "622e2256",
   "metadata": {},
   "outputs": [
    {
     "data": {
      "image/png": "[encoded data removed]",
      "text/plain": [
       "<Figure size 432x288 with 1 Axes>"
      ]
     },
     "metadata": {},
     "output_type": "display_data"
    }
   ],
   "source": [
    "def topsearchedwords():\n",
    "    N = 10\n",
    "    res = dict(sorted(wordsearch.items(), key = itemgetter(1), reverse = True)[:N])\n",
    "    keys = list(res.keys())\n",
    "    vals = list(res.values())\n",
    "    #print(keys)\n",
    "    #print(vals)\n",
    "    \n",
    "    fig1, ax1 = plt.subplots()\n",
    "    ax1.pie(vals, labels=keys, autopct='%1.1f%%')\n",
    "    ax1.axis('equal')  # Equal aspect ratio ensures that pie is drawn as a circle.\n",
    "    ax1.set_title(\"10 Most Common Search Queries\")\n",
    "    plt.show()\n",
    "\n",
    "topsearchedwords()"
   ]
  },
  {
   "cell_type": "code",
   "execution_count": 412,
   "id": "b15020b6",
   "metadata": {},
   "outputs": [
    {
     "data": {
      "image/png": "[encoded data removed]",
      "text/plain": [
       "<Figure size 432x288 with 1 Axes>"
      ]
     },
     "metadata": {
      "needs_background": "light"
     },
     "output_type": "display_data"
    }
   ],
   "source": [
    "#minutes per day graphed\n",
    "import matplotlib.pyplot as plt\n",
    "\n",
    "def minutespermonth():\n",
    "    mons = months.keys()\n",
    "    mins = months.values()\n",
    "    plt.plot(mons, mins)\n",
    "    plt.title('Minutes Listened Per Month')\n",
    "    plt.xlabel('Months')\n",
    "    plt.ylabel('Minutes')\n",
    "    plt.show()\n",
    "    \n",
    "minutespermonth()"
   ]
  },
  {
   "cell_type": "code",
   "execution_count": 416,
   "id": "949f877c",
   "metadata": {},
   "outputs": [
    {
     "name": "stdout",
     "output_type": "stream",
     "text": [
      "Dashboard of Visualized Data:\n"
     ]
    },
    {
     "data": {
      "image/png": "[encoded data removed]",
      "text/plain": [
       "<Figure size 432x288 with 1 Axes>"
      ]
     },
     "metadata": {},
     "output_type": "display_data"
    },
    {
     "data": {
      "image/png": "[encoded data removed]",
      "text/plain": [
       "<Figure size 432x288 with 1 Axes>"
      ]
     },
     "metadata": {},
     "output_type": "display_data"
    },
    {
     "data": {
      "image/png": "[encoded data removed]",
      "text/plain": [
       "<Figure size 432x288 with 1 Axes>"
      ]
     },
     "metadata": {
      "needs_background": "light"
     },
     "output_type": "display_data"
    }
   ],
   "source": [
    "def nonpriv_dashboard():\n",
    "    print(\"Dashboard of Visualized Data:\")\n",
    "    topinferences()\n",
    "    topsearchedwords()\n",
    "    minutespermonth()\n",
    "    \n",
    "nonpriv_dashboard()"
   ]
  },
  {
   "cell_type": "code",
   "execution_count": 420,
   "id": "b1a52808",
   "metadata": {},
   "outputs": [],
   "source": [
    "#Task 1.5: Fun privacy visual\n",
    "priv = dict()"
   ]
  },
  {
   "cell_type": "code",
   "execution_count": 425,
   "id": "a2c4b7f3",
   "metadata": {},
   "outputs": [],
   "source": [
    "#personal information privacy\n",
    "def identifier_priv():\n",
    "    #Identifiers\n",
    "    f = open('/Users/christopherbarnes/cmsc25910/Assignment3/MyData/Identifiers.json')\n",
    "    json_data = f\n",
    "    opened = json.loads(json_data.read())\n",
    "    \n",
    "    counter = 0\n",
    "    counter += len(opened)\n",
    "    \n",
    "    f.close()\n",
    "    \n",
    "    #Identity\n",
    "    f = open('/Users/christopherbarnes/cmsc25910/Assignment3/MyData/Identity.json')\n",
    "    json_data = f\n",
    "    opened = json.loads(json_data.read())\n",
    "    counter += len(opened)\n",
    "    \n",
    "    f.close\n",
    "    \n",
    "    #UserData\n",
    "    f = open('/Users/christopherbarnes/cmsc25910/Assignment3/MyData/Userdata.json')\n",
    "    json_data = f\n",
    "    opened = json.loads(json_data.read())\n",
    "    counter += len(opened)\n",
    "    \n",
    "    f.close()\n",
    "    \n",
    "    priv['personal_information'] = counter\n",
    "\n",
    "identifier_priv()"
   ]
  },
  {
   "cell_type": "code",
   "execution_count": 438,
   "id": "a263be4b",
   "metadata": {},
   "outputs": [],
   "source": [
    "#inferences privacy\n",
    "def inferences_priv():\n",
    "    #Inferences\n",
    "    f = open('/Users/christopherbarnes/cmsc25910/Assignment3/MyData/Inferences.json')\n",
    "    json_data = f\n",
    "    opened = json.loads(json_data.read())\n",
    "    \n",
    "    counter = 0\n",
    "    counter += len(opened['inferences'])\n",
    "    \n",
    "\n",
    "    f.close\n",
    "    \n",
    "    priv['inferences'] = counter\n",
    "\n",
    "inferences_priv()"
   ]
  },
  {
   "cell_type": "code",
   "execution_count": 439,
   "id": "4d124eb0",
   "metadata": {},
   "outputs": [],
   "source": [
    "#payment privacy\n",
    "def payment_priv():\n",
    "    #payment\n",
    "    f = open('/Users/christopherbarnes/cmsc25910/Assignment3/MyData/Payments.json')\n",
    "    json_data = f\n",
    "    opened = json.loads(json_data.read())\n",
    "    #opened = list(f)\n",
    "    \n",
    "    counter = 0\n",
    "    counter += len(opened)\n",
    "    \n",
    "    f.close\n",
    "    \n",
    "    priv['payments'] = counter"
   ]
  },
  {
   "cell_type": "code",
   "execution_count": 451,
   "id": "f194560d",
   "metadata": {},
   "outputs": [],
   "source": [
    "#location privacy\n",
    "def location_priv():\n",
    "    #Location\n",
    "    f = open(\"/Users/christopherbarnes/cmsc25910/Assignment3/MyData/UserAddress.json\", \"r\")\n",
    "    information = f.read()\n",
    "    #print(information)\n",
    "    \n",
    "    \n",
    "    information = information.replace(\"List\", \"\")\n",
    "    information = information.replace(\"Map\", \"\")\n",
    "    information = information.replace(\"City\", \"\")\n",
    "    information = information.replace(\"(\", \"\")\n",
    "    information = information.replace(\")\", \"\")\n",
    "    information = information.replace(\"List\", \"\")\n",
    "    information = information.replace(\"city\", \"\")\n",
    "    information = information.replace(\"->\", \"\")\n",
    "    information = information.replace(\"postal_code_short\", \"\")\n",
    "    information = information.replace(\"state\", \"\")\n",
    "    information = information.replace(\"street\", \"\")\n",
    "    information = information.replace(\"   \", \"\")\n",
    "    information = information.replace(\"  \", \"\")\n",
    "    \n",
    "    information = information.split(\",\")\n",
    "    #print(information)\n",
    "    counter = 0\n",
    "    counter += len(information)\n",
    "    \n",
    "    f.close()\n",
    "    priv['location'] = counter\n",
    "    \n",
    "\n",
    "location_priv()"
   ]
  },
  {
   "cell_type": "code",
   "execution_count": 452,
   "id": "cf335a58",
   "metadata": {},
   "outputs": [
    {
     "name": "stdout",
     "output_type": "stream",
     "text": [
      "{'identifiers': 2, 'personal_information': 21, 'inferences': 117, 'payments': 4, 'location': 4}\n"
     ]
    }
   ],
   "source": [
    "#adding all values to priv dict\n",
    "def instantiate_priv():\n",
    "    identifier_priv()\n",
    "    inferences_priv()\n",
    "    payment_priv()\n",
    "    location_priv()\n",
    "\n",
    "instantiate_priv()\n",
    "print(priv)"
   ]
  },
  {
   "cell_type": "code",
   "execution_count": 455,
   "id": "2afcb356",
   "metadata": {},
   "outputs": [
    {
     "name": "stdout",
     "output_type": "stream",
     "text": [
      "All PII: \n",
      "\n",
      "identifiers\n",
      "identifiers\n",
      "personal_information\n",
      "personal_information\n",
      "personal_information\n",
      "personal_information\n",
      "personal_information\n",
      "personal_information\n",
      "personal_information\n",
      "personal_information\n",
      "personal_information\n",
      "personal_information\n",
      "personal_information\n",
      "personal_information\n",
      "personal_information\n",
      "personal_information\n",
      "personal_information\n",
      "personal_information\n",
      "personal_information\n",
      "personal_information\n",
      "personal_information\n",
      "personal_information\n",
      "personal_information\n",
      "inferences\n",
      "inferences\n",
      "inferences\n",
      "inferences\n",
      "inferences\n",
      "inferences\n",
      "inferences\n",
      "inferences\n",
      "inferences\n",
      "inferences\n",
      "inferences\n",
      "inferences\n",
      "inferences\n",
      "inferences\n",
      "inferences\n",
      "inferences\n",
      "inferences\n",
      "inferences\n",
      "inferences\n",
      "inferences\n",
      "inferences\n",
      "inferences\n",
      "inferences\n",
      "inferences\n",
      "inferences\n",
      "inferences\n",
      "inferences\n",
      "inferences\n",
      "inferences\n",
      "inferences\n",
      "inferences\n",
      "inferences\n",
      "inferences\n",
      "inferences\n",
      "inferences\n",
      "inferences\n",
      "inferences\n",
      "inferences\n",
      "inferences\n",
      "inferences\n",
      "inferences\n",
      "inferences\n",
      "inferences\n",
      "inferences\n",
      "inferences\n",
      "inferences\n",
      "inferences\n",
      "inferences\n",
      "inferences\n",
      "inferences\n",
      "inferences\n",
      "inferences\n",
      "inferences\n",
      "inferences\n",
      "inferences\n",
      "inferences\n",
      "inferences\n",
      "inferences\n",
      "inferences\n",
      "inferences\n",
      "inferences\n",
      "inferences\n",
      "inferences\n",
      "inferences\n",
      "inferences\n",
      "inferences\n",
      "inferences\n",
      "inferences\n",
      "inferences\n",
      "inferences\n",
      "inferences\n",
      "inferences\n",
      "inferences\n",
      "inferences\n",
      "inferences\n",
      "inferences\n",
      "inferences\n",
      "inferences\n",
      "inferences\n",
      "inferences\n",
      "inferences\n",
      "inferences\n",
      "inferences\n",
      "inferences\n",
      "inferences\n",
      "inferences\n",
      "inferences\n",
      "inferences\n",
      "inferences\n",
      "inferences\n",
      "inferences\n",
      "inferences\n",
      "inferences\n",
      "inferences\n",
      "inferences\n",
      "inferences\n",
      "inferences\n",
      "inferences\n",
      "inferences\n",
      "inferences\n",
      "inferences\n",
      "inferences\n",
      "inferences\n",
      "inferences\n",
      "inferences\n",
      "inferences\n",
      "inferences\n",
      "inferences\n",
      "inferences\n",
      "inferences\n",
      "inferences\n",
      "inferences\n",
      "inferences\n",
      "inferences\n",
      "inferences\n",
      "inferences\n",
      "inferences\n",
      "payments\n",
      "payments\n",
      "payments\n",
      "payments\n",
      "location\n",
      "location\n",
      "location\n",
      "location\n"
     ]
    }
   ],
   "source": [
    "#visually representing the privacy invasive information\n",
    "def show():\n",
    "    \n",
    "    print(\"All PII: \\n\")\n",
    "    \n",
    "    keys = priv.keys()\n",
    "    \n",
    "    for key in keys:\n",
    "        index = priv[key]\n",
    "        i = 0\n",
    "        while i < index:\n",
    "            print(key)\n",
    "            i += 1\n",
    "show()"
   ]
  },
  {
   "cell_type": "code",
   "execution_count": null,
   "id": "edb6b382",
   "metadata": {},
   "outputs": [],
   "source": []
  }
 ],
 "metadata": {
  "kernelspec": {
   "display_name": "Python 3 (ipykernel)",
   "language": "python",
   "name": "python3"
  },
  "language_info": {
   "codemirror_mode": {
    "name": "ipython",
    "version": 3
   },
   "file_extension": ".py",
   "mimetype": "text/x-python",
   "name": "python",
   "nbconvert_exporter": "python",
   "pygments_lexer": "ipython3",
   "version": "3.8.6"
  }
 },
 "nbformat": 4,
 "nbformat_minor": 5
}
